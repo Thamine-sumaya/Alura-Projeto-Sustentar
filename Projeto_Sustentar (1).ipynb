{
  "nbformat": 4,
  "nbformat_minor": 0,
  "metadata": {
    "colab": {
      "provenance": []
    },
    "kernelspec": {
      "name": "python3",
      "display_name": "Python 3"
    },
    "language_info": {
      "name": "python"
    }
  },
  "cells": [
    {
      "cell_type": "code",
      "source": [
        "import google.generativeai as genai\n",
        "from pathlib import Path\n",
        "import hashlib\n",
        "import datetime\n",
        "import time\n",
        "\n",
        "GOOGLE_API_KEY='CHAVEAPI'\n",
        "genai.configure(api_key=GOOGLE_API_KEY)\n",
        "\n",
        "generation_config = {\n",
        "    \"temperature\": 1,\n",
        "    \"top_p\": 0.95,\n",
        "    \"top_k\": 0,\n",
        "    \"max_output_tokens\": 8192,\n",
        "}\n",
        "safety_settings = [\n",
        "    {\n",
        "        \"category\": \"HARM_CATEGORY_HARASSMENT\",\n",
        "        \"threshold\": \"BLOCK_MEDIUM_AND_ABOVE\"\n",
        "    },\n",
        "    {\n",
        "        \"category\": \"HARM_CATEGORY_HATE_SPEECH\",\n",
        "        \"threshold\": \"BLOCK_MEDIUM_AND_ABOVE\"\n",
        "    },\n",
        "    {\n",
        "        \"category\": \"HARM_CATEGORY_SEXUALLY_EXPLICIT\",\n",
        "        \"threshold\": \"BLOCK_MEDIUM_AND_ABOVE\"\n",
        "    },\n",
        "    {\n",
        "        \"category\": \"HARM_CATEGORY_DANGEROUS_CONTENT\",\n",
        "        \"threshold\": \"BLOCK_MEDIUM_AND_ABOVE\"\n",
        "    },\n",
        "]\n",
        "model = genai.GenerativeModel(model_name=\"gemini-1.0-pro\", generation_config=generation_config, safety_settings=safety_settings)\n",
        "chat = model.start_chat(history=[])\n",
        "\n",
        "# Correção: A chamada da função estava incorreta\n",
        "response = model.generate_content\n",
        "\n",
        "def set_alarm(alarm_time):\n",
        "    # Remoção da redundância na solicitação do horário\n",
        "    # alarm_time = input(\"Indique o horário do alarme (hh:mm):\")\n",
        "    while True:\n",
        "        now = datetime.datetime.now().strftime(\"%H:%M\")\n",
        "        if now == alarm_time:\n",
        "            print(\"REGAR PLANTAS\")\n",
        "            break\n",
        "        else:\n",
        "          print(f\"Alarme adicionado para as {alarm_time}\")\n",
        "          return\n",
        "\n",
        "print(\"Olá!, me chamo Green🌱, serei sua assistente verde nessa jornada, estou aqui para te auxíliar a encontrar uma solução sustentável para o seu problema!\",\n",
        "      \"\\n\",\n",
        "      \"Minhas principais funcionalidades são:\",\n",
        "      \"\\n\",\n",
        "      \"🌿 Responder perguntas sobre Sustentabilidade, Ecologia, Botânica, Biologia;\",\n",
        "      \"\\n\",\n",
        "      \"🌿 Adicionar alarme de regagem;\",\n",
        "      \"\\n\",\n",
        "      \"🌿 Identificar plantas por imagem e indicar as melhores técnicas de cuidado.\"\n",
        "      \"\\n\",\n",
        "      \"Para terminar nossa sessão, apenas digite \\\"Tchau\\\", e o sistema fechará.\"\n",
        "      )\n",
        "\n",
        "prompt = input(\"Esperando prompt:\")\n",
        "prompt_parts = [\n",
        "    \"Você sabe que planta é essa? quais as melhores técnicas para cuidar dessa planta? responda como se você fosse um especialista em botânica graduado em biologia\", prompt]\n",
        "\n",
        "# Correção: A variável response_plant não estava sendo definida corretamente\n",
        "response_plant = None\n",
        "\n",
        "alarme = \"Adicionar alarme de regagem\"\n",
        "\n",
        "# Correção: O caminho para a imagem precisa ser especificado corretamente\n",
        "# imagem = genai.upload_file(\"<path>/image0.jpeg\")\n",
        "imagem = None # Substitua pelo caminho correto da imagem\n",
        "\n",
        "while prompt != \"Tchau\":\n",
        "    # Correção: Comparação direta com 'imagem' corrigida para verificar se o prompt solicita o upload de imagem\n",
        "    if \"imagem\" in prompt.lower():\n",
        "        # Correção: Upload da imagem movido para dentro do bloco condicional\n",
        "        imagem = genai.upload_file(\"<path>/image0.jpeg\")  # Substitua pelo caminho correto da imagem\n",
        "\n",
        "        # Utiliza prompt_parts para a solicitação sobre a planta\n",
        "        chat.send_message(prompt_parts)\n",
        "\n",
        "        # Correção: Geração da resposta e atribuição à response_plant\n",
        "        response_plant = model.generate_content(prompt_parts)\n",
        "        print(\"Resposta:\", response_plant.text, \"\\n\")\n",
        "    elif alarme in prompt:\n",
        "        alarm_time = input(\"Indique o horário do alarme (hh:mm):\")\n",
        "        set_alarm(alarm_time=alarm_time)\n",
        "        prompt = input(\"Esperando prompt:\")\n",
        "    else:\n",
        "        response = chat.send_message(prompt)\n",
        "        print(\"Resposta:\", response.text, \"\\n\")\n",
        "        prompt = input(\"Esperando prompt:\")"
      ],
      "metadata": {
        "colab": {
          "base_uri": "https://localhost:8080/"
        },
        "id": "3zSdgp1hNntl",
        "outputId": "9036cec3-40e7-4449-823c-9482b46aaaa4"
      },
      "execution_count": null,
      "outputs": [
        {
          "metadata": {
            "tags": null
          },
          "name": "stdout",
          "output_type": "stream",
          "text": [
            "Olá!, me chamo Green🌱, serei sua assistente verde nessa jornada, estou aqui para te auxíliar a encontrar uma solução sustentável para o seu problema! \n",
            " Minhas principais funcionalidades são: \n",
            " 🌿 Responder perguntas sobre Sustentabilidade, Ecologia, Botânica, Biologia; \n",
            " 🌿 Adicionar alarme de regagem; \n",
            " 🌿 Identificar plantas por imagem e indicar as melhores técnicas de cuidado.\n",
            " Para terminar nossa sessão, apenas digite \"Tchau\", e o sistema fechará.\n"
          ]
        }
      ]
    }
  ]
}